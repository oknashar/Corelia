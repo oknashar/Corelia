{
 "cells": [
  {
   "cell_type": "code",
   "execution_count": 1,
   "id": "8ae455d5",
   "metadata": {
    "_cell_guid": "b1076dfc-b9ad-4769-8c92-a6c4dae69d19",
    "_uuid": "8f2839f25d086af736a60e9eeb907d3b93b6e0e5",
    "execution": {
     "iopub.execute_input": "2022-03-18T18:20:02.586793Z",
     "iopub.status.busy": "2022-03-18T18:20:02.584705Z",
     "iopub.status.idle": "2022-03-18T18:20:10.452565Z",
     "shell.execute_reply": "2022-03-18T18:20:10.451789Z",
     "shell.execute_reply.started": "2022-03-18T18:11:48.103439Z"
    },
    "papermill": {
     "duration": 7.899779,
     "end_time": "2022-03-18T18:20:10.452879",
     "exception": false,
     "start_time": "2022-03-18T18:20:02.553100",
     "status": "completed"
    },
    "tags": []
   },
   "outputs": [],
   "source": [
    "import pandas as pd\n",
    "import numpy as np\n",
    "import seaborn as sns\n",
    "from sklearn.model_selection import train_test_split\n",
    "from sklearn.preprocessing import LabelEncoder\n",
    "from sklearn.metrics import classification_report\n",
    "import matplotlib.pyplot as plt"
   ]
  },
  {
   "cell_type": "code",
   "execution_count": 3,
   "id": "3c526836",
   "metadata": {
    "execution": {
     "iopub.execute_input": "2022-03-18T18:20:10.570647Z",
     "iopub.status.busy": "2022-03-18T18:20:10.569620Z",
     "iopub.status.idle": "2022-03-18T18:20:10.728885Z",
     "shell.execute_reply": "2022-03-18T18:20:10.729420Z",
     "shell.execute_reply.started": "2022-03-18T18:11:48.390868Z"
    },
    "papermill": {
     "duration": 0.18865,
     "end_time": "2022-03-18T18:20:10.729605",
     "exception": false,
     "start_time": "2022-03-18T18:20:10.540955",
     "status": "completed"
    },
    "tags": []
   },
   "outputs": [
    {
     "data": {
      "text/html": [
       "<div>\n",
       "<style scoped>\n",
       "    .dataframe tbody tr th:only-of-type {\n",
       "        vertical-align: middle;\n",
       "    }\n",
       "\n",
       "    .dataframe tbody tr th {\n",
       "        vertical-align: top;\n",
       "    }\n",
       "\n",
       "    .dataframe thead th {\n",
       "        text-align: right;\n",
       "    }\n",
       "</style>\n",
       "<table border=\"1\" class=\"dataframe\">\n",
       "  <thead>\n",
       "    <tr style=\"text-align: right;\">\n",
       "      <th></th>\n",
       "      <th>content</th>\n",
       "      <th>sentiment</th>\n",
       "    </tr>\n",
       "  </thead>\n",
       "  <tbody>\n",
       "    <tr>\n",
       "      <th>0</th>\n",
       "      <td>Sometimes I’m not angry, I’m hurt and there’s ...</td>\n",
       "      <td>angry</td>\n",
       "    </tr>\n",
       "    <tr>\n",
       "      <th>1</th>\n",
       "      <td>Not available for busy people☺</td>\n",
       "      <td>angry</td>\n",
       "    </tr>\n",
       "    <tr>\n",
       "      <th>2</th>\n",
       "      <td>I do not exist to impress the world. I exist t...</td>\n",
       "      <td>angry</td>\n",
       "    </tr>\n",
       "    <tr>\n",
       "      <th>3</th>\n",
       "      <td>Everything is getting expensive except some pe...</td>\n",
       "      <td>angry</td>\n",
       "    </tr>\n",
       "    <tr>\n",
       "      <th>4</th>\n",
       "      <td>My phone screen is brighter than my future 🙁</td>\n",
       "      <td>angry</td>\n",
       "    </tr>\n",
       "    <tr>\n",
       "      <th>...</th>\n",
       "      <td>...</td>\n",
       "      <td>...</td>\n",
       "    </tr>\n",
       "    <tr>\n",
       "      <th>8633</th>\n",
       "      <td>@shonali I think the lesson of the day is not ...</td>\n",
       "      <td>neutral</td>\n",
       "    </tr>\n",
       "    <tr>\n",
       "      <th>8634</th>\n",
       "      <td>@lovelylisaj can you give me the link for the ...</td>\n",
       "      <td>neutral</td>\n",
       "    </tr>\n",
       "    <tr>\n",
       "      <th>8635</th>\n",
       "      <td>@jasimmo Ooo showing of your French skills!! l...</td>\n",
       "      <td>neutral</td>\n",
       "    </tr>\n",
       "    <tr>\n",
       "      <th>8636</th>\n",
       "      <td>@sendsome2me haha, yeah. Twitter has many uses...</td>\n",
       "      <td>neutral</td>\n",
       "    </tr>\n",
       "    <tr>\n",
       "      <th>8637</th>\n",
       "      <td>@JohnLloydTaylor</td>\n",
       "      <td>neutral</td>\n",
       "    </tr>\n",
       "  </tbody>\n",
       "</table>\n",
       "<p>10677 rows × 2 columns</p>\n",
       "</div>"
      ],
      "text/plain": [
       "                                                content sentiment\n",
       "0     Sometimes I’m not angry, I’m hurt and there’s ...     angry\n",
       "1                        Not available for busy people☺     angry\n",
       "2     I do not exist to impress the world. I exist t...     angry\n",
       "3     Everything is getting expensive except some pe...     angry\n",
       "4          My phone screen is brighter than my future 🙁     angry\n",
       "...                                                 ...       ...\n",
       "8633  @shonali I think the lesson of the day is not ...   neutral\n",
       "8634  @lovelylisaj can you give me the link for the ...   neutral\n",
       "8635  @jasimmo Ooo showing of your French skills!! l...   neutral\n",
       "8636  @sendsome2me haha, yeah. Twitter has many uses...   neutral\n",
       "8637                                   @JohnLloydTaylor   neutral\n",
       "\n",
       "[10677 rows x 2 columns]"
      ]
     },
     "execution_count": 3,
     "metadata": {},
     "output_type": "execute_result"
    }
   ],
   "source": [
    "angry=pd.read_csv('data/Emotion(angry).csv')\n",
    "happy=pd.read_csv('data/Emotion(happy).csv')\n",
    "sad=pd.read_csv('data/Emotion(sad).csv')\n",
    "neutral=pd.read_csv('data/Neutral.csv')[['sentiment','content']]\n",
    "\n",
    "df = pd.concat([angry,happy,sad,neutral])\n",
    "df"
   ]
  },
  {
   "cell_type": "code",
   "execution_count": 4,
   "id": "16579ef3",
   "metadata": {
    "execution": {
     "iopub.execute_input": "2022-03-18T18:20:10.788272Z",
     "iopub.status.busy": "2022-03-18T18:20:10.787216Z",
     "iopub.status.idle": "2022-03-18T18:20:11.037477Z",
     "shell.execute_reply": "2022-03-18T18:20:11.036861Z",
     "shell.execute_reply.started": "2022-03-18T18:11:48.579609Z"
    },
    "papermill": {
     "duration": 0.280615,
     "end_time": "2022-03-18T18:20:11.037645",
     "exception": false,
     "start_time": "2022-03-18T18:20:10.757030",
     "status": "completed"
    },
    "tags": []
   },
   "outputs": [
    {
     "name": "stderr",
     "output_type": "stream",
     "text": [
      "/opt/conda/lib/python3.7/site-packages/seaborn/_decorators.py:43: FutureWarning: Pass the following variables as keyword args: x, y. From version 0.12, the only valid positional argument will be `data`, and passing other arguments without an explicit keyword will result in an error or misinterpretation.\n",
      "  FutureWarning\n"
     ]
    },
    {
     "data": {
      "text/plain": [
       "neutral    8638\n",
       "happy       708\n",
       "angry       696\n",
       "sad         635\n",
       "Name: sentiment, dtype: int64"
      ]
     },
     "execution_count": 4,
     "metadata": {},
     "output_type": "execute_result"
    },
    {
     "data": {
      "image/png": "[encoded data removed]",
      "text/plain": [
       "<Figure size 432x288 with 1 Axes>"
      ]
     },
     "metadata": {},
     "output_type": "display_data"
    }
   ],
   "source": [
    "## pie chart of the distribution of the dialects\n",
    "count_values = df['sentiment'].value_counts()\n",
    "sns.set(style=\"whitegrid\")\n",
    "sns.barplot(count_values.index,count_values.values)\n",
    "count_values"
   ]
  },
  {
   "cell_type": "code",
   "execution_count": 5,
   "id": "a6342660",
   "metadata": {
    "execution": {
     "iopub.execute_input": "2022-03-18T18:20:11.132348Z",
     "iopub.status.busy": "2022-03-18T18:20:11.110487Z",
     "iopub.status.idle": "2022-03-18T18:20:11.443468Z",
     "shell.execute_reply": "2022-03-18T18:20:11.442852Z",
     "shell.execute_reply.started": "2022-03-18T18:11:49.005082Z"
    },
    "papermill": {
     "duration": 0.377674,
     "end_time": "2022-03-18T18:20:11.443612",
     "exception": false,
     "start_time": "2022-03-18T18:20:11.065938",
     "status": "completed"
    },
    "tags": []
   },
   "outputs": [],
   "source": [
    "import re\n",
    "def remove_hashtags(text):\n",
    "    text = re.sub(r'@\\w+', '', text)\n",
    "    return text\n",
    "def remove_emojis(text):\n",
    "    text = [x for x in text.split(' ') if x.isalpha()]\n",
    "    text = ' '.join(text)\n",
    "    return text\n",
    "def remove_emoji(string):\n",
    "    emoji_pattern = re.compile(\"[\"\n",
    "                               u\"\\U0001F600-\\U0001F64F\"  # emoticons\n",
    "                               u\"\\U0001F300-\\U0001F5FF\"  # symbols & pictographs\n",
    "                               u\"\\U0001F680-\\U0001F6FF\"  # transport & map symbols\n",
    "                               u\"\\U0001F1E0-\\U0001F1FF\"  # flags (iOS)\n",
    "                               u\"\\U00002500-\\U00002BEF\"  # chinese char\n",
    "                               u\"\\U00002702-\\U000027B0\"\n",
    "                               u\"\\U00002702-\\U000027B0\"\n",
    "                               u\"\\U000024C2-\\U0001F251\"\n",
    "                               u\"\\U0001f926-\\U0001f937\"\n",
    "                               u\"\\U00010000-\\U0010ffff\"\n",
    "                               u\"\\u2640-\\u2642\"\n",
    "                               u\"\\u2600-\\u2B55\"\n",
    "                               u\"\\u200d\"\n",
    "                               u\"\\u23cf\"\n",
    "                               u\"\\u23e9\"\n",
    "                               u\"\\u231a\"\n",
    "                               u\"\\ufe0f\"  # dingbats\n",
    "                               u\"\\u3030\"\n",
    "                               \"]+\", flags=re.UNICODE)\n",
    "    return emoji_pattern.sub(r'', string)\n",
    "\n",
    "def remove_urls(text):\n",
    "    text = re.sub(r'http\\S+', '', text)\n",
    "    return text\n",
    "def preprocess(text):\n",
    "    text = remove_hashtags(text)\n",
    "    text = remove_emoji(text)\n",
    "    text = remove_urls(text)\n",
    "    return text\n",
    "\n",
    "df['content'] = df['content'].apply(preprocess)\n"
   ]
  },
  {
   "cell_type": "code",
   "execution_count": 6,
   "id": "6c79327c",
   "metadata": {
    "execution": {
     "iopub.execute_input": "2022-03-18T18:20:11.526962Z",
     "iopub.status.busy": "2022-03-18T18:20:11.526198Z",
     "iopub.status.idle": "2022-03-18T18:20:11.536720Z",
     "shell.execute_reply": "2022-03-18T18:20:11.536158Z",
     "shell.execute_reply.started": "2022-03-18T18:11:49.341447Z"
    },
    "papermill": {
     "duration": 0.064839,
     "end_time": "2022-03-18T18:20:11.536861",
     "exception": false,
     "start_time": "2022-03-18T18:20:11.472022",
     "status": "completed"
    },
    "tags": []
   },
   "outputs": [
    {
     "name": "stdout",
     "output_type": "stream",
     "text": [
      "(696, 2)\n",
      "(700, 2)\n",
      "(700, 2)\n",
      "(635, 2)\n"
     ]
    }
   ],
   "source": [
    "# df.drop_duplicates(inplace=True)\n",
    "# df.dropna(inplace=True)\n",
    "df_data=pd.DataFrame(columns=['content','sentiment'])\n",
    "for i in np.unique(df['sentiment']):\n",
    "    temp=df.loc[df['sentiment']==i].iloc[:700]\n",
    "    print(temp.shape)\n",
    "    df_data=df_data.append(temp,ignore_index=True)\n",
    "    \n",
    "X=df_data['content']\n",
    "Y=df_data['sentiment']\n",
    "df_data.shape\n",
    "\n",
    "enc=LabelEncoder()\n",
    "Y=enc.fit_transform(Y)"
   ]
  },
  {
   "cell_type": "code",
   "execution_count": 7,
   "id": "a5875ea4",
   "metadata": {
    "execution": {
     "iopub.execute_input": "2022-03-18T18:20:11.599369Z",
     "iopub.status.busy": "2022-03-18T18:20:11.598483Z",
     "iopub.status.idle": "2022-03-18T18:20:11.825589Z",
     "shell.execute_reply": "2022-03-18T18:20:11.826103Z",
     "shell.execute_reply.started": "2022-03-18T18:11:49.456178Z"
    },
    "papermill": {
     "duration": 0.259111,
     "end_time": "2022-03-18T18:20:11.826331",
     "exception": false,
     "start_time": "2022-03-18T18:20:11.567220",
     "status": "completed"
    },
    "tags": []
   },
   "outputs": [
    {
     "name": "stderr",
     "output_type": "stream",
     "text": [
      "/opt/conda/lib/python3.7/site-packages/seaborn/_decorators.py:43: FutureWarning: Pass the following variables as keyword args: x, y. From version 0.12, the only valid positional argument will be `data`, and passing other arguments without an explicit keyword will result in an error or misinterpretation.\n",
      "  FutureWarning\n"
     ]
    },
    {
     "data": {
      "text/plain": [
       "happy      700\n",
       "neutral    700\n",
       "angry      696\n",
       "sad        635\n",
       "Name: sentiment, dtype: int64"
      ]
     },
     "execution_count": 7,
     "metadata": {},
     "output_type": "execute_result"
    },
    {
     "data": {
      "image/png": "[encoded data removed]",
      "text/plain": [
       "<Figure size 432x288 with 1 Axes>"
      ]
     },
     "metadata": {},
     "output_type": "display_data"
    }
   ],
   "source": [
    "## pie chart of the distribution of the dialects\n",
    "count_values = df_data['sentiment'].value_counts()\n",
    "sns.set(style=\"whitegrid\")\n",
    "sns.barplot(count_values.index,count_values.values)\n",
    "count_values"
   ]
  },
  {
   "cell_type": "code",
   "execution_count": null,
   "id": "52d713c4",
   "metadata": {
    "papermill": {
     "duration": 0.029889,
     "end_time": "2022-03-18T18:20:11.886349",
     "exception": false,
     "start_time": "2022-03-18T18:20:11.856460",
     "status": "completed"
    },
    "tags": []
   },
   "outputs": [],
   "source": []
  },
  {
   "cell_type": "code",
   "execution_count": 8,
   "id": "c2a531a1",
   "metadata": {
    "execution": {
     "iopub.execute_input": "2022-03-18T18:20:11.950943Z",
     "iopub.status.busy": "2022-03-18T18:20:11.949887Z",
     "iopub.status.idle": "2022-03-18T18:20:11.958026Z",
     "shell.execute_reply": "2022-03-18T18:20:11.958544Z",
     "shell.execute_reply.started": "2022-03-18T18:11:52.226981Z"
    },
    "papermill": {
     "duration": 0.042419,
     "end_time": "2022-03-18T18:20:11.958730",
     "exception": false,
     "start_time": "2022-03-18T18:20:11.916311",
     "status": "completed"
    },
    "tags": []
   },
   "outputs": [],
   "source": [
    "X_train , X_test ,y_train,y_test = train_test_split(X,Y,test_size=0.2,stratify=Y,random_state=42)"
   ]
  },
  {
   "cell_type": "code",
   "execution_count": 9,
   "id": "9bf33d0a",
   "metadata": {
    "execution": {
     "iopub.execute_input": "2022-03-18T18:20:12.023048Z",
     "iopub.status.busy": "2022-03-18T18:20:12.022065Z",
     "iopub.status.idle": "2022-03-18T18:20:12.047562Z",
     "shell.execute_reply": "2022-03-18T18:20:12.046967Z",
     "shell.execute_reply.started": "2022-03-18T18:11:52.906230Z"
    },
    "papermill": {
     "duration": 0.058441,
     "end_time": "2022-03-18T18:20:12.047704",
     "exception": false,
     "start_time": "2022-03-18T18:20:11.989263",
     "status": "completed"
    },
    "tags": []
   },
   "outputs": [],
   "source": [
    "from sklearn.feature_extraction.text import CountVectorizer\n",
    "from sklearn.feature_extraction.text import TfidfTransformer\n",
    "from sklearn.metrics import classification_report,confusion_matrix\n",
    "from sklearn.pipeline import Pipeline\n",
    "import seaborn as sns\n",
    "\n",
    "def train_model(model, data, targets):\n",
    "    text_clf = Pipeline([\n",
    "    ('vect', CountVectorizer(analyzer='char_wb',ngram_range=(4,7),stop_words='english')),\n",
    "    ('tfidf', TfidfTransformer()),\n",
    "    ('clf', model),\n",
    "    ])\n",
    "    text_clf.fit(data, targets)\n",
    "    return text_clf\n",
    "def get_accuracy(trained_model,X, y):\n",
    "    predicted = trained_model.predict(X)\n",
    "    accuracy = np.mean(predicted == y)\n",
    "    return accuracy\n",
    "def get_report(trained_model,X, y):\n",
    "    plt.figure(figsize=(10,10))\n",
    "    predicted = trained_model.predict(X)\n",
    "    cr = classification_report(y,predicted,target_names=enc.classes_)\n",
    "    cm=confusion_matrix(y,predicted)\n",
    "    df_cm=pd.DataFrame(cm,index=enc.classes_)\n",
    "    sns.heatmap(df_cm, annot=True,annot_kws={\"size\": 10},fmt='g') # font size\n",
    "    plt.show()\n",
    "    print(cr)"
   ]
  },
  {
   "cell_type": "markdown",
   "id": "7a3cc15c",
   "metadata": {
    "papermill": {
     "duration": 0.029638,
     "end_time": "2022-03-18T18:20:12.108181",
     "exception": false,
     "start_time": "2022-03-18T18:20:12.078543",
     "status": "completed"
    },
    "tags": []
   },
   "source": [
    "## LogisticRegression"
   ]
  },
  {
   "cell_type": "code",
   "execution_count": 10,
   "id": "911c4deb",
   "metadata": {
    "execution": {
     "iopub.execute_input": "2022-03-18T18:20:12.172888Z",
     "iopub.status.busy": "2022-03-18T18:20:12.172259Z",
     "iopub.status.idle": "2022-03-18T18:20:26.925893Z",
     "shell.execute_reply": "2022-03-18T18:20:26.926383Z",
     "shell.execute_reply.started": "2022-03-18T18:11:54.146966Z"
    },
    "papermill": {
     "duration": 14.787506,
     "end_time": "2022-03-18T18:20:26.926573",
     "exception": false,
     "start_time": "2022-03-18T18:20:12.139067",
     "status": "completed"
    },
    "tags": []
   },
   "outputs": [
    {
     "name": "stdout",
     "output_type": "stream",
     "text": [
      "Test dataset accuracy with LogisticRegression: 0.77\n"
     ]
    },
    {
     "data": {
      "image/png": "[encoded data removed]",
      "text/plain": [
       "<Figure size 720x720 with 2 Axes>"
      ]
     },
     "metadata": {},
     "output_type": "display_data"
    },
    {
     "name": "stdout",
     "output_type": "stream",
     "text": [
      "              precision    recall  f1-score   support\n",
      "\n",
      "       angry       0.84      0.79      0.82       140\n",
      "       happy       0.72      0.61      0.66       140\n",
      "     neutral       0.74      0.92      0.82       140\n",
      "         sad       0.78      0.74      0.76       127\n",
      "\n",
      "    accuracy                           0.77       547\n",
      "   macro avg       0.77      0.77      0.76       547\n",
      "weighted avg       0.77      0.77      0.76       547\n",
      "\n"
     ]
    }
   ],
   "source": [
    "from sklearn.linear_model import LogisticRegression\n",
    "trained_clf_LogisticRegression = train_model(LogisticRegression(), X_train, y_train)\n",
    "accuracy = get_accuracy(trained_clf_LogisticRegression,X_test, y_test)\n",
    "print(f\"Test dataset accuracy with LogisticRegression: {accuracy:.2f}\")\n",
    "get_report(trained_clf_LogisticRegression,X_test, y_test)"
   ]
  },
  {
   "cell_type": "markdown",
   "id": "e78170a4",
   "metadata": {
    "papermill": {
     "duration": 0.032113,
     "end_time": "2022-03-18T18:20:26.991119",
     "exception": false,
     "start_time": "2022-03-18T18:20:26.959006",
     "status": "completed"
    },
    "tags": []
   },
   "source": [
    "## SVM"
   ]
  },
  {
   "cell_type": "code",
   "execution_count": 11,
   "id": "b491e9ef",
   "metadata": {
    "execution": {
     "iopub.execute_input": "2022-03-18T18:20:27.105914Z",
     "iopub.status.busy": "2022-03-18T18:20:27.084916Z",
     "iopub.status.idle": "2022-03-18T18:20:49.764356Z",
     "shell.execute_reply": "2022-03-18T18:20:49.763815Z",
     "shell.execute_reply.started": "2022-03-18T18:12:09.421750Z"
    },
    "papermill": {
     "duration": 22.741342,
     "end_time": "2022-03-18T18:20:49.764513",
     "exception": false,
     "start_time": "2022-03-18T18:20:27.023171",
     "status": "completed"
    },
    "tags": []
   },
   "outputs": [
    {
     "name": "stdout",
     "output_type": "stream",
     "text": [
      "Test dataset accuracy with LinearSVC: 0.77\n"
     ]
    },
    {
     "data": {
      "image/png": "[encoded data removed]",
      "text/plain": [
       "<Figure size 720x720 with 2 Axes>"
      ]
     },
     "metadata": {},
     "output_type": "display_data"
    },
    {
     "name": "stdout",
     "output_type": "stream",
     "text": [
      "              precision    recall  f1-score   support\n",
      "\n",
      "       angry       0.86      0.76      0.81       140\n",
      "       happy       0.70      0.65      0.67       140\n",
      "     neutral       0.72      0.94      0.82       140\n",
      "         sad       0.83      0.72      0.77       127\n",
      "\n",
      "    accuracy                           0.77       547\n",
      "   macro avg       0.78      0.77      0.77       547\n",
      "weighted avg       0.78      0.77      0.77       547\n",
      "\n"
     ]
    }
   ],
   "source": [
    "from sklearn.svm import SVC\n",
    "trained_clf_linearSVC = train_model(SVC(), X_train, y_train)\n",
    "accuracy = get_accuracy(trained_clf_linearSVC,X_test, y_test)\n",
    "print(f\"Test dataset accuracy with LinearSVC: {accuracy:.2f}\")\n",
    "get_report(trained_clf_linearSVC,X_test, y_test)\n"
   ]
  },
  {
   "cell_type": "markdown",
   "id": "cbec5d06",
   "metadata": {
    "papermill": {
     "duration": 0.033135,
     "end_time": "2022-03-18T18:20:49.832427",
     "exception": false,
     "start_time": "2022-03-18T18:20:49.799292",
     "status": "completed"
    },
    "tags": []
   },
   "source": [
    "## MLP"
   ]
  },
  {
   "cell_type": "code",
   "execution_count": 12,
   "id": "038d80de",
   "metadata": {
    "execution": {
     "iopub.execute_input": "2022-03-18T18:20:49.905028Z",
     "iopub.status.busy": "2022-03-18T18:20:49.904037Z",
     "iopub.status.idle": "2022-03-18T18:21:09.364410Z",
     "shell.execute_reply": "2022-03-18T18:21:09.364919Z",
     "shell.execute_reply.started": "2022-03-18T18:12:33.165518Z"
    },
    "papermill": {
     "duration": 19.498972,
     "end_time": "2022-03-18T18:21:09.365097",
     "exception": false,
     "start_time": "2022-03-18T18:20:49.866125",
     "status": "completed"
    },
    "tags": []
   },
   "outputs": [
    {
     "name": "stdout",
     "output_type": "stream",
     "text": [
      "Iteration 1, loss = 1.32233430\n",
      "Iteration 2, loss = 1.09816184\n",
      "Iteration 3, loss = 0.88617462\n"
     ]
    },
    {
     "name": "stderr",
     "output_type": "stream",
     "text": [
      "/opt/conda/lib/python3.7/site-packages/sklearn/neural_network/_multilayer_perceptron.py:696: ConvergenceWarning: Stochastic Optimizer: Maximum iterations (3) reached and the optimization hasn't converged yet.\n",
      "  ConvergenceWarning,\n"
     ]
    },
    {
     "name": "stdout",
     "output_type": "stream",
     "text": [
      "Test dataset accuracy with MLPClassifier: 0.71\n"
     ]
    },
    {
     "data": {
      "image/png": "[encoded data removed]",
      "text/plain": [
       "<Figure size 720x720 with 2 Axes>"
      ]
     },
     "metadata": {},
     "output_type": "display_data"
    },
    {
     "name": "stdout",
     "output_type": "stream",
     "text": [
      "              precision    recall  f1-score   support\n",
      "\n",
      "       angry       0.73      0.76      0.75       140\n",
      "       happy       0.75      0.54      0.63       140\n",
      "     neutral       0.85      0.75      0.80       140\n",
      "         sad       0.58      0.81      0.68       127\n",
      "\n",
      "    accuracy                           0.71       547\n",
      "   macro avg       0.73      0.72      0.71       547\n",
      "weighted avg       0.73      0.71      0.71       547\n",
      "\n"
     ]
    },
    {
     "data": {
      "image/png": "[encoded data removed]",
      "text/plain": [
       "<Figure size 720x720 with 2 Axes>"
      ]
     },
     "metadata": {},
     "output_type": "display_data"
    },
    {
     "name": "stdout",
     "output_type": "stream",
     "text": [
      "              precision    recall  f1-score   support\n",
      "\n",
      "       angry       0.96      0.94      0.95       556\n",
      "       happy       0.95      0.93      0.94       560\n",
      "     neutral       0.99      0.97      0.98       560\n",
      "         sad       0.89      0.96      0.92       508\n",
      "\n",
      "    accuracy                           0.95      2184\n",
      "   macro avg       0.95      0.95      0.95      2184\n",
      "weighted avg       0.95      0.95      0.95      2184\n",
      "\n"
     ]
    }
   ],
   "source": [
    "from sklearn.neural_network import MLPClassifier\n",
    "trained_clf_MLPClassifier = train_model(MLPClassifier(verbose=1,max_iter=3,validation_fraction=0.1), X_train, y_train)\n",
    "accuracy = get_accuracy(trained_clf_MLPClassifier,X_test, y_test)\n",
    "print(f\"Test dataset accuracy with MLPClassifier: {accuracy:.2f}\")\n",
    "get_report(trained_clf_MLPClassifier,X_test, y_test)\n",
    "get_report(trained_clf_MLPClassifier,X_train, y_train)"
   ]
  },
  {
   "cell_type": "markdown",
   "id": "2853859a",
   "metadata": {
    "papermill": {
     "duration": 0.040385,
     "end_time": "2022-03-18T18:21:09.444346",
     "exception": false,
     "start_time": "2022-03-18T18:21:09.403961",
     "status": "completed"
    },
    "tags": []
   },
   "source": [
    "## Decision Tree"
   ]
  },
  {
   "cell_type": "code",
   "execution_count": 13,
   "id": "a5df9b9f",
   "metadata": {
    "execution": {
     "iopub.execute_input": "2022-03-18T18:21:09.526870Z",
     "iopub.status.busy": "2022-03-18T18:21:09.525831Z",
     "iopub.status.idle": "2022-03-18T18:21:20.694032Z",
     "shell.execute_reply": "2022-03-18T18:21:20.694737Z",
     "shell.execute_reply.started": "2022-03-18T18:12:53.739449Z"
    },
    "papermill": {
     "duration": 11.21054,
     "end_time": "2022-03-18T18:21:20.694920",
     "exception": false,
     "start_time": "2022-03-18T18:21:09.484380",
     "status": "completed"
    },
    "tags": []
   },
   "outputs": [
    {
     "name": "stdout",
     "output_type": "stream",
     "text": [
      "Test dataset accuracy with MLPClassifier: 0.67\n"
     ]
    },
    {
     "data": {
      "image/png": "[encoded data removed]",
      "text/plain": [
       "<Figure size 720x720 with 2 Axes>"
      ]
     },
     "metadata": {},
     "output_type": "display_data"
    },
    {
     "name": "stdout",
     "output_type": "stream",
     "text": [
      "              precision    recall  f1-score   support\n",
      "\n",
      "       angry       0.76      0.75      0.76       140\n",
      "       happy       0.57      0.55      0.56       140\n",
      "     neutral       0.72      0.72      0.72       140\n",
      "         sad       0.64      0.68      0.66       127\n",
      "\n",
      "    accuracy                           0.67       547\n",
      "   macro avg       0.67      0.67      0.67       547\n",
      "weighted avg       0.67      0.67      0.67       547\n",
      "\n"
     ]
    },
    {
     "data": {
      "image/png": "[encoded data removed]",
      "text/plain": [
       "<Figure size 720x720 with 2 Axes>"
      ]
     },
     "metadata": {},
     "output_type": "display_data"
    },
    {
     "name": "stdout",
     "output_type": "stream",
     "text": [
      "              precision    recall  f1-score   support\n",
      "\n",
      "       angry       0.99      1.00      1.00       556\n",
      "       happy       1.00      1.00      1.00       560\n",
      "     neutral       1.00      1.00      1.00       560\n",
      "         sad       1.00      0.99      1.00       508\n",
      "\n",
      "    accuracy                           1.00      2184\n",
      "   macro avg       1.00      1.00      1.00      2184\n",
      "weighted avg       1.00      1.00      1.00      2184\n",
      "\n"
     ]
    }
   ],
   "source": [
    "from sklearn.tree import DecisionTreeClassifier\n",
    "trained_clf_DT = train_model(DecisionTreeClassifier(), X_train, y_train)\n",
    "accuracy = get_accuracy(trained_clf_DT,X_test, y_test)\n",
    "print(f\"Test dataset accuracy with MLPClassifier: {accuracy:.2f}\")\n",
    "get_report(trained_clf_DT,X_test, y_test)\n",
    "get_report(trained_clf_DT,X_train, y_train)"
   ]
  },
  {
   "cell_type": "markdown",
   "id": "9027b9db",
   "metadata": {
    "papermill": {
     "duration": 0.041825,
     "end_time": "2022-03-18T18:21:20.779319",
     "exception": false,
     "start_time": "2022-03-18T18:21:20.737494",
     "status": "completed"
    },
    "tags": []
   },
   "source": [
    "## RAndom Forest"
   ]
  },
  {
   "cell_type": "code",
   "execution_count": 14,
   "id": "973dd268",
   "metadata": {
    "execution": {
     "iopub.execute_input": "2022-03-18T18:21:20.870803Z",
     "iopub.status.busy": "2022-03-18T18:21:20.869920Z",
     "iopub.status.idle": "2022-03-18T18:21:42.299227Z",
     "shell.execute_reply": "2022-03-18T18:21:42.300309Z",
     "shell.execute_reply.started": "2022-03-18T18:16:20.141563Z"
    },
    "papermill": {
     "duration": 21.478218,
     "end_time": "2022-03-18T18:21:42.300674",
     "exception": false,
     "start_time": "2022-03-18T18:21:20.822456",
     "status": "completed"
    },
    "tags": []
   },
   "outputs": [
    {
     "name": "stdout",
     "output_type": "stream",
     "text": [
      "Test dataset accuracy with MLPClassifier: 0.75\n"
     ]
    },
    {
     "data": {
      "image/png": "[encoded data removed]",
      "text/plain": [
       "<Figure size 720x720 with 2 Axes>"
      ]
     },
     "metadata": {},
     "output_type": "display_data"
    },
    {
     "name": "stdout",
     "output_type": "stream",
     "text": [
      "              precision    recall  f1-score   support\n",
      "\n",
      "       angry       0.78      0.86      0.82       140\n",
      "       happy       0.73      0.59      0.65       140\n",
      "     neutral       0.71      0.89      0.79       140\n",
      "         sad       0.77      0.65      0.70       127\n",
      "\n",
      "    accuracy                           0.75       547\n",
      "   macro avg       0.75      0.74      0.74       547\n",
      "weighted avg       0.75      0.75      0.74       547\n",
      "\n"
     ]
    },
    {
     "data": {
      "image/png": "[encoded data removed]",
      "text/plain": [
       "<Figure size 720x720 with 2 Axes>"
      ]
     },
     "metadata": {},
     "output_type": "display_data"
    },
    {
     "name": "stdout",
     "output_type": "stream",
     "text": [
      "              precision    recall  f1-score   support\n",
      "\n",
      "       angry       0.99      1.00      1.00       556\n",
      "       happy       1.00      1.00      1.00       560\n",
      "     neutral       1.00      1.00      1.00       560\n",
      "         sad       1.00      1.00      1.00       508\n",
      "\n",
      "    accuracy                           1.00      2184\n",
      "   macro avg       1.00      1.00      1.00      2184\n",
      "weighted avg       1.00      1.00      1.00      2184\n",
      "\n"
     ]
    }
   ],
   "source": [
    "from sklearn.ensemble import RandomForestClassifier\n",
    "trained_clf_RF = train_model(RandomForestClassifier(n_estimators=200), X_train, y_train)\n",
    "accuracy = get_accuracy(trained_clf_RF,X_test, y_test)\n",
    "print(f\"Test dataset accuracy with MLPClassifier: {accuracy:.2f}\")\n",
    "get_report(trained_clf_RF,X_test, y_test)\n",
    "get_report(trained_clf_RF,X_train, y_train)"
   ]
  },
  {
   "cell_type": "code",
   "execution_count": 15,
   "id": "02fda631",
   "metadata": {
    "execution": {
     "iopub.execute_input": "2022-03-18T18:21:42.397738Z",
     "iopub.status.busy": "2022-03-18T18:21:42.396853Z",
     "iopub.status.idle": "2022-03-18T18:21:42.399262Z",
     "shell.execute_reply": "2022-03-18T18:21:42.399869Z",
     "shell.execute_reply.started": "2022-03-18T18:16:42.017664Z"
    },
    "papermill": {
     "duration": 0.052993,
     "end_time": "2022-03-18T18:21:42.400036",
     "exception": false,
     "start_time": "2022-03-18T18:21:42.347043",
     "status": "completed"
    },
    "tags": []
   },
   "outputs": [],
   "source": [
    "def predict(model,text):\n",
    "    text=pd.Series(text)\n",
    "    pred=model.predict(text)\n",
    "    print(enc.classes_[pred][0])"
   ]
  },
  {
   "cell_type": "code",
   "execution_count": 16,
   "id": "40787b41",
   "metadata": {
    "execution": {
     "iopub.execute_input": "2022-03-18T18:21:42.495322Z",
     "iopub.status.busy": "2022-03-18T18:21:42.494288Z",
     "iopub.status.idle": "2022-03-18T18:21:42.504336Z",
     "shell.execute_reply": "2022-03-18T18:21:42.504902Z",
     "shell.execute_reply.started": "2022-03-18T18:17:13.221296Z"
    },
    "papermill": {
     "duration": 0.059483,
     "end_time": "2022-03-18T18:21:42.505073",
     "exception": false,
     "start_time": "2022-03-18T18:21:42.445590",
     "status": "completed"
    },
    "tags": []
   },
   "outputs": [
    {
     "name": "stdout",
     "output_type": "stream",
     "text": [
      "happy\n"
     ]
    }
   ],
   "source": [
    "predict(trained_clf_linearSVC,\"i'm very happy to see you\" )"
   ]
  },
  {
   "cell_type": "code",
   "execution_count": 17,
   "id": "4db133bd",
   "metadata": {
    "execution": {
     "iopub.execute_input": "2022-03-18T18:21:42.598832Z",
     "iopub.status.busy": "2022-03-18T18:21:42.597843Z",
     "iopub.status.idle": "2022-03-18T18:21:42.607508Z",
     "shell.execute_reply": "2022-03-18T18:21:42.608412Z",
     "shell.execute_reply.started": "2022-03-18T18:19:07.143577Z"
    },
    "papermill": {
     "duration": 0.058645,
     "end_time": "2022-03-18T18:21:42.608643",
     "exception": false,
     "start_time": "2022-03-18T18:21:42.549998",
     "status": "completed"
    },
    "tags": []
   },
   "outputs": [
    {
     "name": "stdout",
     "output_type": "stream",
     "text": [
      "neutral\n"
     ]
    }
   ],
   "source": [
    "predict(trained_clf_linearSVC,\"i'm so good\" )"
   ]
  },
  {
   "cell_type": "code",
   "execution_count": 18,
   "id": "8695ce37",
   "metadata": {
    "execution": {
     "iopub.execute_input": "2022-03-18T18:21:42.703903Z",
     "iopub.status.busy": "2022-03-18T18:21:42.702918Z",
     "iopub.status.idle": "2022-03-18T18:21:42.712097Z",
     "shell.execute_reply": "2022-03-18T18:21:42.712745Z",
     "shell.execute_reply.started": "2022-03-18T18:19:25.464170Z"
    },
    "papermill": {
     "duration": 0.058278,
     "end_time": "2022-03-18T18:21:42.712917",
     "exception": false,
     "start_time": "2022-03-18T18:21:42.654639",
     "status": "completed"
    },
    "tags": []
   },
   "outputs": [
    {
     "name": "stdout",
     "output_type": "stream",
     "text": [
      "angry\n"
     ]
    }
   ],
   "source": [
    "predict(trained_clf_linearSVC,\"i'm so angry\" )"
   ]
  },
  {
   "cell_type": "code",
   "execution_count": null,
   "id": "8f815728",
   "metadata": {
    "papermill": {
     "duration": 0.047688,
     "end_time": "2022-03-18T18:21:42.806793",
     "exception": false,
     "start_time": "2022-03-18T18:21:42.759105",
     "status": "completed"
    },
    "tags": []
   },
   "outputs": [],
   "source": []
  },
  {
   "cell_type": "code",
   "execution_count": null,
   "id": "1038dd0e",
   "metadata": {
    "papermill": {
     "duration": 0.047198,
     "end_time": "2022-03-18T18:21:42.900297",
     "exception": false,
     "start_time": "2022-03-18T18:21:42.853099",
     "status": "completed"
    },
    "tags": []
   },
   "outputs": [],
   "source": []
  },
  {
   "cell_type": "code",
   "execution_count": null,
   "id": "61d0be47",
   "metadata": {
    "papermill": {
     "duration": 0.046804,
     "end_time": "2022-03-18T18:21:42.994904",
     "exception": false,
     "start_time": "2022-03-18T18:21:42.948100",
     "status": "completed"
    },
    "tags": []
   },
   "outputs": [],
   "source": []
  },
  {
   "cell_type": "code",
   "execution_count": null,
   "id": "cf9c136d",
   "metadata": {
    "papermill": {
     "duration": 0.045553,
     "end_time": "2022-03-18T18:21:43.086485",
     "exception": false,
     "start_time": "2022-03-18T18:21:43.040932",
     "status": "completed"
    },
    "tags": []
   },
   "outputs": [],
   "source": []
  }
 ],
 "metadata": {
  "kernelspec": {
   "display_name": "Python 3",
   "language": "python",
   "name": "python3"
  },
  "language_info": {
   "codemirror_mode": {
    "name": "ipython",
    "version": 3
   },
   "file_extension": ".py",
   "mimetype": "text/x-python",
   "name": "python",
   "nbconvert_exporter": "python",
   "pygments_lexer": "ipython3",
   "version": "3.7.12"
  },
  "papermill": {
   "default_parameters": {},
   "duration": 114.830236,
   "end_time": "2022-03-18T18:21:46.490083",
   "environment_variables": {},
   "exception": null,
   "input_path": "__notebook__.ipynb",
   "output_path": "__notebook__.ipynb",
   "parameters": {},
   "start_time": "2022-03-18T18:19:51.659847",
   "version": "2.3.3"
  }
 },
 "nbformat": 4,
 "nbformat_minor": 5
}
